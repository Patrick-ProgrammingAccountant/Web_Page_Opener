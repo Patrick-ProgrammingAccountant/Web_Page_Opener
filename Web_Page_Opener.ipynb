{
 "cells": [
  {
   "cell_type": "code",
   "execution_count": 13,
   "metadata": {},
   "outputs": [],
   "source": [
    "## Auto Open the pages you care about\n",
    "# Importations\n",
    "import webbrowser as wb\n",
    "import time\n",
    "\n",
    "# Websites to open\n",
    "wb.open_new_tab(\"https://github.com/\")\n",
    "time.sleep(1)\n",
    "wb.open_new_tab(\"https://www.youtube.com/\")\n",
    "time.sleep(1)\n",
    "wb.open_new_tab(\"https://duckduckgo.com/\")\n",
    "time.sleep(1)"
   ]
  },
  {
   "cell_type": "code",
   "execution_count": 16,
   "metadata": {},
   "outputs": [
    {
     "name": "stdout",
     "output_type": "stream",
     "text": [
      "Please select the page you would like to open: https://YouTube.com/\n"
     ]
    },
    {
     "data": {
      "text/plain": [
       "True"
      ]
     },
     "execution_count": 16,
     "metadata": {},
     "output_type": "execute_result"
    }
   ],
   "source": [
    "## User Input Variant\n",
    "# Importations\n",
    "import webbrowser as wb\n",
    "import time\n",
    "\n",
    "ui = input(\"Please select the page you would like to open: \")\n",
    "output = r\"%s\" % ui\n",
    "wb.open_new_tab(output)"
   ]
  },
  {
   "cell_type": "code",
   "execution_count": null,
   "metadata": {},
   "outputs": [],
   "source": []
  }
 ],
 "metadata": {
  "kernelspec": {
   "display_name": "Python 3",
   "language": "python",
   "name": "python3"
  },
  "language_info": {
   "codemirror_mode": {
    "name": "ipython",
    "version": 3
   },
   "file_extension": ".py",
   "mimetype": "text/x-python",
   "name": "python",
   "nbconvert_exporter": "python",
   "pygments_lexer": "ipython3",
   "version": "3.7.4"
  }
 },
 "nbformat": 4,
 "nbformat_minor": 2
}
